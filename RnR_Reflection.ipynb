{
  "nbformat": 4,
  "nbformat_minor": 0,
  "metadata": {
    "colab": {
      "provenance": [],
      "authorship_tag": "ABX9TyPEaslk0hOydom1H9Ku7h5I",
      "include_colab_link": true
    },
    "kernelspec": {
      "name": "python3",
      "display_name": "Python 3"
    },
    "language_info": {
      "name": "python"
    }
  },
  "cells": [
    {
      "cell_type": "markdown",
      "metadata": {
        "id": "view-in-github",
        "colab_type": "text"
      },
      "source": [
        "<a href=\"https://colab.research.google.com/github/racheltanjr/rnr_homework/blob/main/RnR_Reflection.ipynb\" target=\"_parent\"><img src=\"https://colab.research.google.com/assets/colab-badge.svg\" alt=\"Open In Colab\"/></a>"
      ]
    },
    {
      "cell_type": "code",
      "execution_count": null,
      "metadata": {
        "colab": {
          "base_uri": "https://localhost:8080/"
        },
        "id": "oRJVt_n1PPFO",
        "outputId": "b19faaa8-f75a-48ec-c85a-7d9c3ba03992"
      },
      "outputs": [
        {
          "output_type": "stream",
          "name": "stdout",
          "text": [
            "Today's date: 2023-10-27\n"
          ]
        }
      ],
      "source": [
        "from datetime import date\n",
        "\n",
        "print(\"Today's date:\", date.today())"
      ]
    },
    {
      "cell_type": "code",
      "source": [
        "print(\"2x5=\",2*5)"
      ],
      "metadata": {
        "colab": {
          "base_uri": "https://localhost:8080/"
        },
        "id": "Zcb7B5GIgNaI",
        "outputId": "24400d8a-a6a2-4046-cfe7-af38d0d8b4bd"
      },
      "execution_count": null,
      "outputs": [
        {
          "output_type": "stream",
          "name": "stdout",
          "text": [
            "2x5= 10\n"
          ]
        }
      ]
    },
    {
      "cell_type": "markdown",
      "source": [
        "\n",
        "Reflection:\n",
        "\n",
        "Using repositories for data backup is vital, as it mitigates the risk of relying solely on local storage. Repositories not only enhance data security but also grant easier access to other researchers' work, fostering collaborative efforts and future progress.\n",
        "\n",
        "The ability to track changes is equally crucial, as it permits us to revisit past revisions, rectify errors, and gain insights into our historical work. The ability to add and track past comments also helps us understand our decision making process when typing the code. In addition to storing unsuccessful experimental results, it is essential to archive failed computational outcomes.\n",
        "\n",
        "Sharing our code online, particularly on platforms like GitHub, offers significant advantages to the research community. GitHub's 'Fork' function empowers users to duplicate repositories, facilitating the exchange of knowledge and collaborative improvements. Personally, I've leveraged another researcher's repository for computational analysis, benefiting from their informative annotations.\n",
        "\n",
        "This practice not only accelerates research but also encourages best practices and knowledge sharing within the research community. In summary, using repositories, version control systems, and platforms like GitHub is essential for modern research and collaboration. These tools and practices enhance data management, facilitate collaboration, and promote transparency and knowledge sharing within the research community."
      ],
      "metadata": {
        "id": "ZsuGKCuSgZDP"
      }
    }
  ]
}